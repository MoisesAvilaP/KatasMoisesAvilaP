{
 "cells": [
  {
   "cell_type": "code",
   "execution_count": null,
   "metadata": {},
   "outputs": [],
   "source": [
    "#ejercicio numeros\n",
    "Tierra_float = float('149597870')\n",
    "Jupiter_float = float('778547200')\n",
    "\n",
    "#print (Tierra_float)\n",
    "\n",
    "Distancia =   Jupiter_float -Tierra_float\n",
    "print (abs(Distancia))\n",
    "\n",
    "print(abs(Distancia * 0.621))\n"
   ]
  },
  {
   "cell_type": "code",
   "execution_count": null,
   "metadata": {},
   "outputs": [],
   "source": [
    "#Entradas del usuario\n",
    "primerplaneta = input('Introduzca la distancia del sol para el primer planeta en KM')\n",
    "segundoplaneta = input('Introduzca la distancia desde el sol para el segundo planeta en KM')\n",
    "\n",
    "# Convierte las cadenas de ambos planetas a números enteros\n",
    "primerplaneta = int(primerplaneta)\n",
    "segundoplaneta = int(segundoplaneta)\n",
    "distance_km = segundoplaneta - primerplaneta\n",
    "\n",
    "\n",
    "\n",
    "distance_mi = distance_km * 0.621\n",
    "print(abs(distance_mi))"
   ]
  }
 ],
 "metadata": {
  "interpreter": {
   "hash": "2053e467633a253059758f4bb589e289883b141e3733b025d94ffc6f29c33642"
  },
  "kernelspec": {
   "display_name": "Python 3.10.2 64-bit",
   "language": "python",
   "name": "python3"
  },
  "language_info": {
   "codemirror_mode": {
    "name": "ipython",
    "version": 3
   },
   "file_extension": ".py",
   "mimetype": "text/x-python",
   "name": "python",
   "nbconvert_exporter": "python",
   "pygments_lexer": "ipython3",
   "version": "3.10.2"
  },
  "orig_nbformat": 4
 },
 "nbformat": 4,
 "nbformat_minor": 2
}
