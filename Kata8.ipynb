{
 "cells": [
  {
   "cell_type": "code",
   "execution_count": null,
   "metadata": {},
   "outputs": [],
   "source": [
    "#Ejercicio 1 de diccionario\n",
    "planet = {\n",
    "    'nombre':'Marte',\n",
    "    'lunas': 2\n",
    "}\n",
    "print('El planeta se llama', planet.get('nombre'), 'y tiene', planet.get('lunas'), 'lunas')\n",
    "\n",
    "planet['circunferencia (km)']={\n",
    "   'polar' : 6752,\n",
    "   'equatorial': 6792 \n",
    "}\n",
    "print('El planeta se llama', planet.get('nombre'), 'y su circunferencia es', {planet['circunferencia (km)']['polar']})"
   ]
  },
  {
   "cell_type": "code",
   "execution_count": null,
   "metadata": {},
   "outputs": [],
   "source": [
    "#Ejercicio 2 de diccionario\n",
    "planet_moons = {\n",
    "    'mercury': 0,\n",
    "    'venus': 0,\n",
    "    'earth': 1,\n",
    "    'mars': 2,\n",
    "    'jupiter': 79,\n",
    "    'saturn': 82,\n",
    "    'uranus': 27,\n",
    "    'neptune': 14,\n",
    "    'pluto': 5,\n",
    "    'haumea': 2,\n",
    "    'makemake': 1,\n",
    "    'eris': 1\n",
    "}\n",
    "lunas = planet_moons.values()\n",
    "\n",
    "planets = len(planet_moons.keys())\n",
    "\n",
    "print ('Se tiene', lunas)\n",
    "print ('Se tiene', planets)\n",
    "\n",
    "lunas_totales = 0\n",
    "for luna in lunas:\n",
    "    lunas_totales = lunas_totales + luna\n",
    "\n",
    "promedio = lunas_totales / planets \n",
    "\n",
    "print(promedio)\n"
   ]
  }
 ],
 "metadata": {
  "interpreter": {
   "hash": "2053e467633a253059758f4bb589e289883b141e3733b025d94ffc6f29c33642"
  },
  "kernelspec": {
   "display_name": "Python 3.10.2 64-bit",
   "language": "python",
   "name": "python3"
  },
  "language_info": {
   "codemirror_mode": {
    "name": "ipython",
    "version": 3
   },
   "file_extension": ".py",
   "mimetype": "text/x-python",
   "name": "python",
   "nbconvert_exporter": "python",
   "pygments_lexer": "ipython3",
   "version": "3.10.2"
  },
  "orig_nbformat": 4
 },
 "nbformat": 4,
 "nbformat_minor": 2
}
