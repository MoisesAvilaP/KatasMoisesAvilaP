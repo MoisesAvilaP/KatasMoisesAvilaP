{
 "cells": [
  {
   "cell_type": "code",
   "execution_count": null,
   "metadata": {},
   "outputs": [],
   "source": [
    "#Sentencias de control\n",
    "#ejemplo\n",
    "# Creamos la variable que almacena el texto\n",
    "user_input = ''\n",
    "# Creamos la lista que almacena cada uno de los textos que el usuario ingresa\n",
    "inputs = []\n",
    "\n",
    "# Ciclo while\n",
    "while user_input.lower() != 'done':\n",
    "    # Verificamos si hay un valor en user_input\n",
    "    if user_input:\n",
    "        # Almacenamos ese valor en la lista\n",
    "        inputs.append(user_input)\n",
    "    # Capturamos un nuevo valor\n",
    "    user_input = input('Enter a new value, or done when done')\n",
    "print('Se capturaron:', inputs) "
   ]
  },
  {
   "cell_type": "code",
   "execution_count": null,
   "metadata": {},
   "outputs": [],
   "source": [
    "countdown = [4, 3, 2, 1, 0]\n",
    "for number in countdown:\n",
    "    print(number)\n",
    "print(\"Blast off!! 🚀\")"
   ]
  },
  {
   "cell_type": "code",
   "execution_count": null,
   "metadata": {},
   "outputs": [],
   "source": [
    "# De la biblioteca time, importamos (traemos) la clase sleep\n",
    "\n",
    "from time import sleep\n",
    "\n",
    "# Creamos una lista de 5 números llamada countdown\n",
    "countdown = [4, 3, 2, 1, 0]\n",
    "\n",
    "# Para cada número en countdown\n",
    "for number in countdown:\n",
    "    #Muestra el número\n",
    "    print(number)\n",
    "\n",
    "    # Espera (1segundo)\n",
    "    sleep(1)\n",
    "\n",
    "# Muestra el mensaje Blast off\n",
    "print(\"Blast off!! 🚀\")"
   ]
  },
  {
   "cell_type": "code",
   "execution_count": null,
   "metadata": {},
   "outputs": [],
   "source": [
    "#Ejercicio de uso de While\n",
    "#Variable para guardar lo registrado por el usuario\n",
    "new_planet =''\n",
    "#Variable donde se guardara la lista de los planetas\n",
    "planets =[]\n",
    "\n",
    "#Ciclo \n",
    "while new_planet.lower() != 'done':\n",
    "    #Se verifica que valor se capturo\n",
    "    if new_planet:\n",
    "        #guardar el valor capturado en la lista\n",
    "        planets.append(new_planet)\n",
    "    #Registro de un valor\n",
    "    new_planet = input('Registre nombre del planeta o registre done para concluir el registro')\n",
    "    \n"
   ]
  },
  {
   "cell_type": "code",
   "execution_count": null,
   "metadata": {},
   "outputs": [],
   "source": [
    "#Ejercicio de uso de for\n",
    "\n",
    "#Llenado de la lista\n",
    "#Variable para guardar lo registrado por el usuario\n",
    "new_planet =''\n",
    "#Variable donde se guardara la lista de los planetas\n",
    "planets =[]\n",
    "\n",
    "#Ciclo \n",
    "while new_planet.lower() != 'done':\n",
    "    #Se verifica que valor se capturo\n",
    "    if new_planet:\n",
    "        #guardar el valor capturado en la lista\n",
    "        planets.append(new_planet)\n",
    "    #Registro de un valor\n",
    "    new_planet = input('Registre nombre del planeta o registre done para concluir el registro')\n",
    "    \n",
    "\n",
    "for planet in planets:\n",
    "    #print (planets[planet])\n",
    "    print ('PLANETA CAPTURADO', planet)\n",
    "\n"
   ]
  }
 ],
 "metadata": {
  "interpreter": {
   "hash": "2053e467633a253059758f4bb589e289883b141e3733b025d94ffc6f29c33642"
  },
  "kernelspec": {
   "display_name": "Python 3.10.2 64-bit",
   "language": "python",
   "name": "python3"
  },
  "language_info": {
   "codemirror_mode": {
    "name": "ipython",
    "version": 3
   },
   "file_extension": ".py",
   "mimetype": "text/x-python",
   "name": "python",
   "nbconvert_exporter": "python",
   "pygments_lexer": "ipython3",
   "version": "3.10.2"
  },
  "orig_nbformat": 4
 },
 "nbformat": 4,
 "nbformat_minor": 2
}
