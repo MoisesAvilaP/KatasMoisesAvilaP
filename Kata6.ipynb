{
 "cells": [
  {
   "cell_type": "code",
   "execution_count": null,
   "metadata": {},
   "outputs": [],
   "source": [
    "#Listas\n",
    "planetas = ['Mercurio','Venus','Tierra','Marte','Jupiter','Saturno','Urano','Neptuno']\n",
    "print ('Los planetas del sistema solar son',planetas[0],',',planetas[1],',',planetas[2],',',planetas[3],',',planetas[4],',',planetas[5],',',planetas[6],',',planetas[7] )\n",
    "\n",
    "planetas.append('Pluton')\n",
    "NumeroPlanetas = len(planetas)\n",
    "print ('El ultimo planeta es',planetas[-1])\n",
    "print ('Numero de planetas es',NumeroPlanetas)\n"
   ]
  },
  {
   "cell_type": "code",
   "execution_count": null,
   "metadata": {},
   "outputs": [],
   "source": [
    "planetas = ['Mercurio','Venus','Tierra','Marte','Jupiter','Saturno','Urano','Neptuno']\n",
    "planeta_capturado = input('Introduzca el nombre del planeta (con letras mayuscula en la 1a letra)')\n",
    "planeta_buscado = planetas.index(planeta_capturado)\n",
    "print ('Posicion del Planeta capturado:' , planeta_buscado+1)\n",
    "\n",
    "print('Los planetas mas cercanos a ' + planeta_capturado)\n",
    "print(planetas[0:planeta_buscado])\n",
    "\n",
    "print('Los planetas mas lejanos ' + planeta_capturado)\n",
    "print(planetas[planeta_buscado + 1:])"
   ]
  }
 ],
 "metadata": {
  "interpreter": {
   "hash": "2053e467633a253059758f4bb589e289883b141e3733b025d94ffc6f29c33642"
  },
  "kernelspec": {
   "display_name": "Python 3.10.2 64-bit",
   "language": "python",
   "name": "python3"
  },
  "language_info": {
   "codemirror_mode": {
    "name": "ipython",
    "version": 3
   },
   "file_extension": ".py",
   "mimetype": "text/x-python",
   "name": "python",
   "nbconvert_exporter": "python",
   "pygments_lexer": "ipython3",
   "version": "3.10.2"
  },
  "orig_nbformat": 4
 },
 "nbformat": 4,
 "nbformat_minor": 2
}
